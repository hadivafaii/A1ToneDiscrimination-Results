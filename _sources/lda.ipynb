{
 "cells": [
  {
   "cell_type": "markdown",
   "metadata": {},
   "source": [
    "# Linear Discriminant Analysis (LDA)\n",
    "\n",
    "The main motivation behind LDA is to find a lower dimensional projection of data that maximizes **between class** distances, while minimizing **within class** distances of data points.  This dimensionality reduction will lead to a maximally separable projection of the data, and in a sense, one can consider this as supervised PCA.  The method is described in chapter 4 of the the famous [ESL textbook](https://web.stanford.edu/~hastie/Papers/ESLII.pdf).\n",
    "\n",
    "For each experiment, the goal is to find a low-dimensional ($d=3$) space that maximally separates either {**hit, miss, correctreject,** and **falsealarm**} trials, or {**target7k, target14k, nontarget14k,** and **nontarget20k**} trials. This way, we can visualize trajectories to see check whether they diverge as time goes on. Furthermore, the resulting projection of features down to this smaller space can be used to learn a linear classifier.  Results show that we can indeed learn a low-$d$ space where trial trajectories diverge, while maintaining a high classification score as well.  Results obtained using [sklearn's implementation of LDA](https://scikit-learn.org/stable/modules/generated/sklearn.discriminant_analysis.LinearDiscriminantAnalysis.html)."
   ]
  },
  {
   "cell_type": "markdown",
   "metadata": {},
   "source": [
    "## Imports"
   ]
  },
  {
   "cell_type": "code",
   "execution_count": null,
   "metadata": {},
   "outputs": [],
   "source": [
    "import os\n",
    "import sys\n",
    "\n",
    "import numpy as np\n",
    "import pandas as pd\n",
    "from datetime import datetime\n",
    "from os.path import join as pjoin\n",
    "from copy import deepcopy as dc\n",
    "from tqdm.notebook import tqdm\n",
    "import pickle\n",
    "import h5py\n",
    "\n",
    "import matplotlib.pyplot as plt\n",
    "import seaborn as sns\n",
    "sns.set_style('white')\n",
    "\n",
    "github_path = pjoin(os.environ['HOME'], 'Dropbox/git/A1ToneDiscrimination/')\n",
    "sys.path.insert(0, github_path)\n",
    "from utils.plot_functions import *\n",
    "from analysis.lda_analysis import LDA"
   ]
  },
  {
   "cell_type": "markdown",
   "metadata": {},
   "source": [
    "## Dirs"
   ]
  },
  {
   "cell_type": "code",
   "execution_count": null,
   "metadata": {},
   "outputs": [],
   "source": [
    "base_dir = pjoin(os.environ['HOME'], 'Documents/A1')\n",
    "processed_dir = pjoin(base_dir, 'python_processed')\n",
    "results_dir = pjoin(base_dir, 'results', 'lda')\n",
    "\n",
    "nb_std = 1\n",
    "h_load_file = pjoin(processed_dir, \"organized_nb_std={:d}.h5\".format(nb_std))"
   ]
  },
  {
   "cell_type": "markdown",
   "metadata": {},
   "source": [
    "## 1) 4way classification\n",
    "\n",
    "First, we consider only: **{hit, miss, correctreject, falsealarm}**"
   ]
  },
  {
   "cell_type": "markdown",
   "metadata": {},
   "source": [
    "### Performance comparison figure:\n",
    "\n",
    "We first compare LDA results obtained by projecting down to a lower dimensional space of differenct sizes.  Because of the way LDA is defined, we are limited to $num\\_dims <= num\\_classes - 1$ which leaves us with options $dim \\in [1, 2, 3]$.  For the 4way classification between different behavioral trials types, we see a slight increase in performance as we increase number of dims.  This increase in performance is not large enough to have significant implications. As another evaluation measure, we next look at Sb, the scatter matrix between classes. Sb is largest for the case of $dim =3$ which means using $dim = 3$ will result in more separable trajectories.  Overall, these results show that for the case of 4way classification, and in the context of LDA, choosing a 3-dimnensional space works better."
   ]
  },
  {
   "cell_type": "code",
   "execution_count": null,
   "metadata": {},
   "outputs": [],
   "source": [
    "load_dir = pjoin(results_dir, '4way')\n",
    "\n",
    "_ = mk_lda_summary_plot(load_dir, dpi=70)"
   ]
  },
  {
   "cell_type": "markdown",
   "metadata": {},
   "source": [
    "### Trajectory figures:\n",
    "\n",
    "Now let's look at some trajectories.\n",
    "\n",
    "- There are 3 plots on top row:\n",
    "    - The one on the left shows average performance for the 4 way classification task\n",
    "    - The one in the middle is the average distance between data points from different classes\n",
    "    - The one on the right is scatter matrix between classes (similar to mid, but it is more standard when using LDA)\n",
    "- Then at the bottom there is a representative trajecory:\n",
    "    - As we can see, these 4 trajectories diverge and they reach maximum separation at best timepoint\n",
    "    - The trajectories show how center-of-mass (COM) of each class evolves in time\n",
    "    - The half-transparent shapes around each scatter point accounts for the variance (i.e. the size of the 'cloud' around COM).  Larger = more variance, therefore, if datapoints were all on top of eachother at the COM, it would have zero redius."
   ]
  },
  {
   "cell_type": "markdown",
   "metadata": {},
   "source": [
    "#### 3D:"
   ]
  },
  {
   "cell_type": "code",
   "execution_count": null,
   "metadata": {},
   "outputs": [],
   "source": [
    "_ = mk_trajectory_plot(\n",
    "    load_dir,\n",
    "    dim=3,\n",
    "    global_stats=True,\n",
    "    figsize=(10, 12),\n",
    "    dpi=60,\n",
    ")"
   ]
  },
  {
   "cell_type": "markdown",
   "metadata": {},
   "source": [
    "#### 3D, Shuffled:"
   ]
  },
  {
   "cell_type": "code",
   "execution_count": null,
   "metadata": {},
   "outputs": [],
   "source": [
    "name = 'lana_2018-08-17'\n",
    "\n",
    "_ = mk_trajectory_plot(\n",
    "    load_dir,\n",
    "    dim=3,\n",
    "    name=name,\n",
    "    global_stats=False,\n",
    "    shuffled=True,\n",
    "    figsize=(10, 12),\n",
    "    dpi=60,\n",
    ")"
   ]
  },
  {
   "cell_type": "markdown",
   "metadata": {},
   "source": [
    "### GIFs that rotate for a better view\n",
    "\n",
    "(temporary, later I will use plotly for interactive figures)"
   ]
  },
  {
   "cell_type": "code",
   "execution_count": null,
   "metadata": {},
   "outputs": [],
   "source": [
    "from IPython.display import Image\n",
    "with open('traj_azim.gif','rb') as file:\n",
    "    display(Image(file.read(), width=600, height=500, embed=True))"
   ]
  },
  {
   "cell_type": "code",
   "execution_count": null,
   "metadata": {
    "scrolled": false
   },
   "outputs": [],
   "source": [
    "from IPython.display import Image\n",
    "with open('traj_rot.gif','rb') as file:\n",
    "    display(Image(file.read(), width=600, height=500, embed=True))"
   ]
  },
  {
   "cell_type": "markdown",
   "metadata": {},
   "source": [
    "### Lower dimensions:"
   ]
  },
  {
   "cell_type": "markdown",
   "metadata": {},
   "source": [
    "#### 2D:"
   ]
  },
  {
   "cell_type": "code",
   "execution_count": null,
   "metadata": {},
   "outputs": [],
   "source": [
    "_ = mk_trajectory_plot(\n",
    "    load_dir,\n",
    "    dim=2,\n",
    "    global_stats=True,\n",
    "    shuffled=False,\n",
    "    figsize=(10, 12),\n",
    "    dpi=60,\n",
    ")"
   ]
  },
  {
   "cell_type": "markdown",
   "metadata": {},
   "source": [
    "#### 2D, Shuffled:"
   ]
  },
  {
   "cell_type": "code",
   "execution_count": null,
   "metadata": {},
   "outputs": [],
   "source": [
    "_ = mk_trajectory_plot(\n",
    "    load_dir,\n",
    "    dim=2,\n",
    "    global_stats=False,\n",
    "    shuffled=True,\n",
    "    figsize=(10, 10),\n",
    "    dpi=60,\n",
    ")"
   ]
  },
  {
   "cell_type": "markdown",
   "metadata": {},
   "source": [
    "#### 1D:"
   ]
  },
  {
   "cell_type": "code",
   "execution_count": null,
   "metadata": {},
   "outputs": [],
   "source": [
    "_ = mk_trajectory_plot(\n",
    "    load_dir,\n",
    "    dim=1,\n",
    "    global_stats=True,\n",
    "    shuffled=False,\n",
    "    figsize=(10, 8),\n",
    "    dpi=60,\n",
    ")"
   ]
  },
  {
   "cell_type": "markdown",
   "metadata": {},
   "source": [
    "#### 1D, Shuffled:"
   ]
  },
  {
   "cell_type": "code",
   "execution_count": null,
   "metadata": {},
   "outputs": [],
   "source": [
    "name = \"gabby_2016-08-21\"\n",
    "\n",
    "_ = mk_trajectory_plot(\n",
    "    load_dir,\n",
    "    dim=1,\n",
    "    name=name,\n",
    "    global_stats=False,\n",
    "    shuffled=True,\n",
    "    figsize=(10, 8),\n",
    "    dpi=60,\n",
    ")"
   ]
  },
  {
   "cell_type": "markdown",
   "metadata": {},
   "source": [
    "### Discussion:\n",
    "\n",
    "So far, we saw that projecting neural responses down to a lower dimensional space found by LDA revels diverging trajectories.  But what is the content of this lower dimensional space?  Before addressing this quesiton, let us now look at another classification task between different target and nontarget frequencies.  After that we will come back to the interpretability question."
   ]
  },
  {
   "cell_type": "markdown",
   "metadata": {},
   "source": [
    "## 2) StimFrequency classification\n",
    "\n",
    "Now we consider target/nontarget related labels: **{target7k, target10k, nontarget14k, nontarget20k}**\n",
    "\n",
    "Just like above, there is no meaningful different in performance between different dimensionalities, but trajectories diverge beautifully."
   ]
  },
  {
   "cell_type": "markdown",
   "metadata": {},
   "source": [
    "### Performance figure"
   ]
  },
  {
   "cell_type": "code",
   "execution_count": null,
   "metadata": {},
   "outputs": [],
   "source": [
    "load_dir = pjoin(results_dir, 'stimfreq')\n",
    "\n",
    "_ = mk_lda_summary_plot(load_dir, dpi=70)"
   ]
  },
  {
   "cell_type": "markdown",
   "metadata": {},
   "source": [
    "### Trajectory figures"
   ]
  },
  {
   "cell_type": "markdown",
   "metadata": {},
   "source": [
    "#### 3D:"
   ]
  },
  {
   "cell_type": "code",
   "execution_count": null,
   "metadata": {},
   "outputs": [],
   "source": [
    "_ = mk_trajectory_plot(\n",
    "    load_dir,\n",
    "    dim=3,\n",
    "    global_stats=True,\n",
    "    shuffled=False,\n",
    "    figsize=(10, 12),\n",
    "    dpi=60,\n",
    ")"
   ]
  },
  {
   "cell_type": "markdown",
   "metadata": {},
   "source": [
    "#### 3D, Shuffled:"
   ]
  },
  {
   "cell_type": "code",
   "execution_count": null,
   "metadata": {},
   "outputs": [],
   "source": [
    "name = \"gabby_2016-08-18\"\n",
    "\n",
    "_ = mk_trajectory_plot(\n",
    "    load_dir,\n",
    "    dim=3,\n",
    "    name=name,\n",
    "    global_stats=False,\n",
    "    shuffled=True,\n",
    "    figsize=(10, 12),\n",
    "    dpi=60,\n",
    ")"
   ]
  },
  {
   "cell_type": "markdown",
   "metadata": {},
   "source": [
    "#### 2D:"
   ]
  },
  {
   "cell_type": "code",
   "execution_count": null,
   "metadata": {},
   "outputs": [],
   "source": [
    "_ = mk_trajectory_plot(\n",
    "    load_dir,\n",
    "    dim=2,\n",
    "    global_stats=True,\n",
    "    shuffled=False,\n",
    "    figsize=(10, 12),\n",
    "    dpi=60,\n",
    ")"
   ]
  },
  {
   "cell_type": "markdown",
   "metadata": {},
   "source": [
    "#### 2D, Shuffled:"
   ]
  },
  {
   "cell_type": "code",
   "execution_count": null,
   "metadata": {},
   "outputs": [],
   "source": [
    "name = \"gabby_2016-08-18\"\n",
    "\n",
    "_ = mk_trajectory_plot(\n",
    "    load_dir,\n",
    "    dim=2,\n",
    "    name=name,\n",
    "    global_stats=False,\n",
    "    shuffled=True,\n",
    "    figsize=(10, 10),\n",
    "    dpi=60,\n",
    ")"
   ]
  },
  {
   "cell_type": "markdown",
   "metadata": {},
   "source": [
    "#### 1D:"
   ]
  },
  {
   "cell_type": "code",
   "execution_count": null,
   "metadata": {},
   "outputs": [],
   "source": [
    "_ = mk_trajectory_plot(\n",
    "    load_dir,\n",
    "    dim=1,\n",
    "    global_stats=True,\n",
    "    shuffled=False,\n",
    "    figsize=(10, 8),\n",
    "    dpi=60,\n",
    ")"
   ]
  },
  {
   "cell_type": "markdown",
   "metadata": {},
   "source": [
    "#### 1D, Shuffled:"
   ]
  },
  {
   "cell_type": "code",
   "execution_count": null,
   "metadata": {},
   "outputs": [],
   "source": [
    "name = \"gabby_2016-08-18\"\n",
    "\n",
    "_ = mk_trajectory_plot(\n",
    "    load_dir,\n",
    "    dim=1,\n",
    "    name=name,\n",
    "    global_stats=False,\n",
    "    shuffled=True,\n",
    "    figsize=(10, 8),\n",
    "    dpi=60,\n",
    ")"
   ]
  },
  {
   "cell_type": "code",
   "execution_count": null,
   "metadata": {},
   "outputs": [],
   "source": []
  },
  {
   "cell_type": "code",
   "execution_count": null,
   "metadata": {},
   "outputs": [],
   "source": []
  },
  {
   "cell_type": "code",
   "execution_count": null,
   "metadata": {},
   "outputs": [],
   "source": []
  },
  {
   "cell_type": "markdown",
   "metadata": {},
   "source": [
    "## To be continued..."
   ]
  },
  {
   "cell_type": "code",
   "execution_count": null,
   "metadata": {},
   "outputs": [],
   "source": []
  },
  {
   "cell_type": "code",
   "execution_count": null,
   "metadata": {},
   "outputs": [],
   "source": []
  }
 ],
 "metadata": {
  "kernelspec": {
   "display_name": "Python 3",
   "language": "python",
   "name": "python3"
  },
  "language_info": {
   "codemirror_mode": {
    "name": "ipython",
    "version": 3
   },
   "file_extension": ".py",
   "mimetype": "text/x-python",
   "name": "python",
   "nbconvert_exporter": "python",
   "pygments_lexer": "ipython3",
   "version": "3.8.5"
  }
 },
 "nbformat": 4,
 "nbformat_minor": 2
}
